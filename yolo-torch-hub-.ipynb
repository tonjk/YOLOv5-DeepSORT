{
 "cells": [
  {
   "cell_type": "code",
   "execution_count": 1,
   "metadata": {},
   "outputs": [
    {
     "name": "stderr",
     "output_type": "stream",
     "text": [
      "c:\\Users\\Alpha 15 A3DD\\AppData\\Local\\Programs\\Python\\Python37\\lib\\site-packages\\tqdm\\auto.py:21: TqdmWarning: IProgress not found. Please update jupyter and ipywidgets. See https://ipywidgets.readthedocs.io/en/stable/user_install.html\n",
      "  from .autonotebook import tqdm as notebook_tqdm\n"
     ]
    }
   ],
   "source": [
    "import torch\n",
    "import cv2\n",
    "import pandas as pd\n",
    "import numpy as np"
   ]
  },
  {
   "cell_type": "code",
   "execution_count": 2,
   "metadata": {},
   "outputs": [
    {
     "name": "stderr",
     "output_type": "stream",
     "text": [
      "Using cache found in C:\\Users\\Alpha 15 A3DD/.cache\\torch\\hub\\ultralytics_yolov5_master\n",
      "YOLOv5  2023-5-6 Python-3.7.4 torch-1.13.1+cpu CPU\n",
      "\n",
      "Fusing layers... \n"
     ]
    },
    {
     "name": "stdout",
     "output_type": "stream",
     "text": [
      "\u001b[31m\u001b[1mrequirements:\u001b[0m C:\\Users\\Alpha 15 A3DD\\.cache\\torch\\hub\\requirements.txt not found, check failed.\n"
     ]
    },
    {
     "name": "stderr",
     "output_type": "stream",
     "text": [
      "YOLOv5s summary: 213 layers, 7225885 parameters, 0 gradients\n",
      "Adding AutoShape... \n"
     ]
    }
   ],
   "source": [
    "model = torch.hub.load('ultralytics/yolov5', 'yolov5s', pretrained=True)\n",
    "# # Image\n",
    "im = 'https://ultralytics.com/images/zidane.jpg'\n",
    "results = model(im)"
   ]
  },
  {
   "cell_type": "code",
   "execution_count": 15,
   "metadata": {},
   "outputs": [],
   "source": [
    "haha = cv2.imread('test_data\\zidane.jpg')\n",
    "cv2.imshow('fdsfas',haha)\n",
    "cv2.waitKey(0) & 0xFF == ord('q')\n",
    "cv2.destroyAllWindows()"
   ]
  },
  {
   "cell_type": "code",
   "execution_count": 3,
   "metadata": {},
   "outputs": [
    {
     "data": {
      "text/html": [
       "<div>\n",
       "<style scoped>\n",
       "    .dataframe tbody tr th:only-of-type {\n",
       "        vertical-align: middle;\n",
       "    }\n",
       "\n",
       "    .dataframe tbody tr th {\n",
       "        vertical-align: top;\n",
       "    }\n",
       "\n",
       "    .dataframe thead th {\n",
       "        text-align: right;\n",
       "    }\n",
       "</style>\n",
       "<table border=\"1\" class=\"dataframe\">\n",
       "  <thead>\n",
       "    <tr style=\"text-align: right;\">\n",
       "      <th></th>\n",
       "      <th>xmin</th>\n",
       "      <th>ymin</th>\n",
       "      <th>xmax</th>\n",
       "      <th>ymax</th>\n",
       "      <th>confidence</th>\n",
       "      <th>class</th>\n",
       "      <th>name</th>\n",
       "    </tr>\n",
       "  </thead>\n",
       "  <tbody>\n",
       "    <tr>\n",
       "      <th>0</th>\n",
       "      <td>743.290405</td>\n",
       "      <td>48.343658</td>\n",
       "      <td>1141.756592</td>\n",
       "      <td>720.000000</td>\n",
       "      <td>0.879861</td>\n",
       "      <td>0</td>\n",
       "      <td>person</td>\n",
       "    </tr>\n",
       "    <tr>\n",
       "      <th>1</th>\n",
       "      <td>441.989624</td>\n",
       "      <td>437.336731</td>\n",
       "      <td>496.585083</td>\n",
       "      <td>710.036194</td>\n",
       "      <td>0.675119</td>\n",
       "      <td>27</td>\n",
       "      <td>tie</td>\n",
       "    </tr>\n",
       "    <tr>\n",
       "      <th>2</th>\n",
       "      <td>123.051117</td>\n",
       "      <td>193.238068</td>\n",
       "      <td>714.690796</td>\n",
       "      <td>719.771240</td>\n",
       "      <td>0.666693</td>\n",
       "      <td>0</td>\n",
       "      <td>person</td>\n",
       "    </tr>\n",
       "    <tr>\n",
       "      <th>3</th>\n",
       "      <td>978.989807</td>\n",
       "      <td>313.579468</td>\n",
       "      <td>1025.302856</td>\n",
       "      <td>415.526184</td>\n",
       "      <td>0.261517</td>\n",
       "      <td>27</td>\n",
       "      <td>tie</td>\n",
       "    </tr>\n",
       "  </tbody>\n",
       "</table>\n",
       "</div>"
      ],
      "text/plain": [
       "         xmin        ymin         xmax        ymax  confidence  class    name\n",
       "0  743.290405   48.343658  1141.756592  720.000000    0.879861      0  person\n",
       "1  441.989624  437.336731   496.585083  710.036194    0.675119     27     tie\n",
       "2  123.051117  193.238068   714.690796  719.771240    0.666693      0  person\n",
       "3  978.989807  313.579468  1025.302856  415.526184    0.261517     27     tie"
      ]
     },
     "execution_count": 3,
     "metadata": {},
     "output_type": "execute_result"
    }
   ],
   "source": [
    "res = results.pandas().xyxy[0]\n",
    "res"
   ]
  },
  {
   "cell_type": "code",
   "execution_count": 34,
   "metadata": {},
   "outputs": [],
   "source": [
    "def plot_boxes(frame, res):\n",
    "    res = res.pandas().xyxy[0]\n",
    "    n = len(res)\n",
    "    for i in range(n):\n",
    "        # xmin, ymin, xmax, ymax = res['xmin'][i], res['ymin'][i], res['xmax'][i], res['ymax'][i]\n",
    "        xmin, ymin, xmax, ymax = int(res['xmin'][i]), int(res['ymin'][i]), int(res['xmax'][i]), int(res['ymax'][i])\n",
    "        print( xmin, ymin, xmax, ymax)\n",
    "        box_color = (0,0,255)\n",
    "        cv2.rectangle(frame, (xmin,ymin),(xmax,ymax),box_color,2)\n",
    "        cv2.putText(frame, res['name']+str(np.round(res['confidence'][i],2)), (xmin,ymin-10), cv2.FONT_HERSHEY_SIMPLEX, 1, box_color, thickness=2)\n",
    "    return frame"
   ]
  },
  {
   "cell_type": "code",
   "execution_count": 4,
   "metadata": {},
   "outputs": [],
   "source": [
    "labels, cord = results.xyxyn[0][:, -1], results.xyxyn[0][:, :-1]"
   ]
  },
  {
   "cell_type": "code",
   "execution_count": 5,
   "metadata": {},
   "outputs": [
    {
     "data": {
      "text/plain": [
       "tensor([ 0., 27.,  0., 27.])"
      ]
     },
     "execution_count": 5,
     "metadata": {},
     "output_type": "execute_result"
    }
   ],
   "source": [
    "labels"
   ]
  },
  {
   "cell_type": "code",
   "execution_count": 6,
   "metadata": {},
   "outputs": [
    {
     "data": {
      "text/plain": [
       "tensor([[0.58070, 0.06714, 0.89200, 1.00000, 0.87986],\n",
       "        [0.34530, 0.60741, 0.38796, 0.98616, 0.67512],\n",
       "        [0.09613, 0.26839, 0.55835, 0.99968, 0.66669],\n",
       "        [0.76484, 0.43553, 0.80102, 0.57712, 0.26152]])"
      ]
     },
     "execution_count": 6,
     "metadata": {},
     "output_type": "execute_result"
    }
   ],
   "source": [
    "cord"
   ]
  },
  {
   "cell_type": "code",
   "execution_count": 10,
   "metadata": {},
   "outputs": [
    {
     "name": "stdout",
     "output_type": "stream",
     "text": [
      "[tensor(0.58070), tensor(0.06714), tensor(0.89200), tensor(1.)] tensor(0.87986) test boxes[0] 0.580695629119873\n",
      "[tensor(0.34530), tensor(0.60741), tensor(0.38796), tensor(0.98616)] tensor(0.67512) test boxes[0] 0.345304399728775\n",
      "[tensor(0.09613), tensor(0.26839), tensor(0.55835), tensor(0.99968)] tensor(0.66669) test boxes[0] 0.09613368660211563\n",
      "[tensor(0.76484), tensor(0.43553), tensor(0.80102), tensor(0.57712)] tensor(0.26152) test boxes[0] 0.764835774898529\n"
     ]
    }
   ],
   "source": [
    "for *boxes, conf in cord:\n",
    "    print(boxes,conf,'test boxes[0]',boxes[0].item())"
   ]
  },
  {
   "cell_type": "code",
   "execution_count": null,
   "metadata": {},
   "outputs": [],
   "source": [
    "haha = cv2.imread('test_data\\zidane.jpg')\n",
    "pred = model(haha)\n",
    "cv2.imshow('RESULT!!',plot_boxes(haha, pred))\n",
    "cv2.waitKey(0) & 0xFF == ord('q')\n",
    "cv2.destroyAllWindows()"
   ]
  },
  {
   "cell_type": "code",
   "execution_count": 40,
   "metadata": {},
   "outputs": [],
   "source": [
    "classes = model.names"
   ]
  },
  {
   "cell_type": "code",
   "execution_count": 46,
   "metadata": {},
   "outputs": [],
   "source": [
    "def class_to_label(x):\n",
    "    return classes[int(x)]\n",
    "\n",
    "def plot_boxes(results, frame):\n",
    "    results = results.xyxyn[0][:, -1], results.xyxyn[0][:, :-1]\n",
    "    labels, cord = results\n",
    "    n = len(labels)\n",
    "    x_shape, y_shape = frame.shape[1], frame.shape[0]\n",
    "    for i in range(n):\n",
    "        row = cord[i]\n",
    "        if row[4] >= 0.3:\n",
    "            x1, y1, x2, y2 = int(row[0]*x_shape), int(row[1]*y_shape), int(row[2]*x_shape), int(row[3]*y_shape)\n",
    "            bgr = (0, 255, 0)\n",
    "            cv2.rectangle(frame, (x1,y1-15), (x2,y2), bgr, 2)\n",
    "            cv2.putText(frame, class_to_label(labels[i]), (x1,y1), cv2.FONT_HERSHEY_SIMPLEX, 0.9, bgr, thickness=2)\n",
    "    return frame"
   ]
  },
  {
   "cell_type": "code",
   "execution_count": 24,
   "metadata": {},
   "outputs": [
    {
     "data": {
      "text/plain": [
       "'txt\\\\20230506180838'"
      ]
     },
     "execution_count": 24,
     "metadata": {},
     "output_type": "execute_result"
    }
   ],
   "source": [
    "import os\n",
    "import time\n",
    "from datetime import datetime\n",
    "os.path.join('txt', datetime.now().strftime(\"%Y%m%d%H%M%S\"))"
   ]
  },
  {
   "cell_type": "code",
   "execution_count": 72,
   "metadata": {},
   "outputs": [
    {
     "data": {
      "text/plain": [
       "'060523225740'"
      ]
     },
     "execution_count": 72,
     "metadata": {},
     "output_type": "execute_result"
    }
   ],
   "source": [
    "time.strftime(\"%d%m%y%H%M%S\")"
   ]
  },
  {
   "cell_type": "code",
   "execution_count": 47,
   "metadata": {},
   "outputs": [
    {
     "data": {
      "text/plain": [
       "'sort_file_text\\\\log_new_text'"
      ]
     },
     "execution_count": 47,
     "metadata": {},
     "output_type": "execute_result"
    }
   ],
   "source": [
    "os.path.join('sort_file_text','log_new_text')"
   ]
  },
  {
   "cell_type": "code",
   "execution_count": 75,
   "metadata": {},
   "outputs": [],
   "source": [
    "with open(f'sort_file_text\\\\log_text_{strftime(\"%d%m%y\")}.txt', 'a') as f:\n",
    "    f.write('heloo')"
   ]
  },
  {
   "cell_type": "code",
   "execution_count": 47,
   "metadata": {},
   "outputs": [],
   "source": [
    "cv2.imshow('resyyy',plot_boxes(pred,haha))\n",
    "cv2.waitKey(0) & 0xFF == ord('q')\n",
    "cv2.destroyAllWindows()"
   ]
  },
  {
   "cell_type": "code",
   "execution_count": 36,
   "metadata": {},
   "outputs": [],
   "source": [
    "# def score_frame(self, frame):\n",
    "#     self.model.to(self.device)\n",
    "#     frame = [frame]\n",
    "#     results = self.model(frame)\n",
    "#     labels, cord = results.xyxyn[0][:, -1], results.xyxyn[0][:, :-1]\n",
    "#     return labels, cord\n",
    "\n",
    "# def class_to_label(self, x):\n",
    "#     return self.classes[int(x)]\n",
    "\n",
    "# def plot_boxes(self, results, frame):\n",
    "#     labels, cord = results\n",
    "#     n = len(labels)\n",
    "#     x_shape, y_shape = frame.shape[1], frame.shape[0]\n",
    "#     for i in range(n):\n",
    "#         row = cord[i]\n",
    "#         if row[4] >= 0.3:\n",
    "#             x1, y1, x2, y2 = int(row[0]*x_shape), int(row[1]*y_shape), int(row[2]*x_shape), int(row[3]*y_shape)\n",
    "#             bgr = (0, 255, 0)\n",
    "#             cv2.rectangle(frame, (x1,y1), (x2,y2), bgr, 2)\n",
    "#             cv2.putText(frame, self.class_to_labelP(labels[i]), (x1,y1), cv2.FONT_HERSHEY_SIMPLEX, 0.9, bgr, thickness=2)\n",
    "#     return frame"
   ]
  },
  {
   "cell_type": "code",
   "execution_count": 59,
   "metadata": {},
   "outputs": [],
   "source": [
    "from scipy.optimize import linear_sum_assignment as linear_assignment_sp"
   ]
  },
  {
   "cell_type": "code",
   "execution_count": 61,
   "metadata": {},
   "outputs": [
    {
     "name": "stdout",
     "output_type": "stream",
     "text": [
      "(array([0, 1, 2], dtype=int64), array([1, 0, 2], dtype=int64))\n",
      "2\n"
     ]
    }
   ],
   "source": [
    "sp = linear_assignment_sp(np.array([[4, 1, 3], [2, 0, 5], [3, 2, 2]]))\n",
    "print(sp)\n",
    "print(len(sp))"
   ]
  },
  {
   "cell_type": "code",
   "execution_count": 64,
   "metadata": {},
   "outputs": [
    {
     "data": {
      "text/plain": [
       "array([[0, 1, 2],\n",
       "       [1, 0, 2]], dtype=int64)"
      ]
     },
     "execution_count": 64,
     "metadata": {},
     "output_type": "execute_result"
    }
   ],
   "source": [
    "sp = np.transpose(np.asarray(sp))"
   ]
  },
  {
   "cell_type": "code",
   "execution_count": 62,
   "metadata": {},
   "outputs": [
    {
     "name": "stdout",
     "output_type": "stream",
     "text": [
      "[[0 1]\n",
      " [1 0]\n",
      " [2 2]]\n",
      "3\n"
     ]
    },
    {
     "name": "stderr",
     "output_type": "stream",
     "text": [
      "c:\\Users\\Alpha 15 A3DD\\AppData\\Local\\Programs\\Python\\Python37\\lib\\site-packages\\sklearn\\utils\\linear_assignment_.py:128: FutureWarning: The linear_assignment function is deprecated in 0.21 and will be removed from 0.23. Use scipy.optimize.linear_sum_assignment instead.\n",
      "  FutureWarning)\n"
     ]
    }
   ],
   "source": [
    "from sklearn.utils.linear_assignment_ import linear_assignment\n",
    "sk = linear_assignment(np.array([[4, 1, 3], [2, 0, 5], [3, 2, 2]]))\n",
    "print(sk)\n",
    "print(len(sk))"
   ]
  },
  {
   "cell_type": "code",
   "execution_count": 70,
   "metadata": {},
   "outputs": [
    {
     "data": {
      "text/plain": [
       "(2, 4)"
      ]
     },
     "execution_count": 70,
     "metadata": {},
     "output_type": "execute_result"
    }
   ],
   "source": [
    "tuple(map(int,[2.9,4.1]))"
   ]
  },
  {
   "cell_type": "code",
   "execution_count": null,
   "metadata": {},
   "outputs": [],
   "source": []
  }
 ],
 "metadata": {
  "kernelspec": {
   "display_name": "yolo-venv",
   "language": "python",
   "name": "python3"
  },
  "language_info": {
   "codemirror_mode": {
    "name": "ipython",
    "version": 3
   },
   "file_extension": ".py",
   "mimetype": "text/x-python",
   "name": "python",
   "nbconvert_exporter": "python",
   "pygments_lexer": "ipython3",
   "version": "3.7.4"
  },
  "orig_nbformat": 4
 },
 "nbformat": 4,
 "nbformat_minor": 2
}
